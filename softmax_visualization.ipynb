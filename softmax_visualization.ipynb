{
 "cells": [
  {
   "cell_type": "code",
   "execution_count": 1,
   "metadata": {
    "executionInfo": {
     "elapsed": 1072,
     "status": "ok",
     "timestamp": 1662627876318,
     "user": {
      "displayName": "Swardi Antara",
      "userId": "04346670249923330104"
     },
     "user_tz": -420
    },
    "id": "OyfPGkfmxKFF"
   },
   "outputs": [],
   "source": [
    "import torch\n",
    "from torch import nn"
   ]
  },
  {
   "cell_type": "code",
   "execution_count": 2,
   "metadata": {
    "colab": {
     "base_uri": "https://localhost:8080/"
    },
    "executionInfo": {
     "elapsed": 411,
     "status": "ok",
     "timestamp": 1662627878221,
     "user": {
      "displayName": "Swardi Antara",
      "userId": "04346670249923330104"
     },
     "user_tz": -420
    },
    "id": "6710hSPmxik2",
    "outputId": "5702c8d8-adff-450a-90ba-23ef2f848ff6"
   },
   "outputs": [
    {
     "data": {
      "text/plain": [
       "tensor([[ 1,  2,  3,  4,  5,  6,  7,  8,  9, 10]])"
      ]
     },
     "execution_count": 2,
     "metadata": {},
     "output_type": "execute_result"
    }
   ],
   "source": [
    "asal = [1, 2, 3, 4, 5, 6, 7, 8, 9, 10]\n",
    "asal = torch.tensor(asal)\n",
    "asal.reshape(1,10)"
   ]
  },
  {
   "cell_type": "code",
   "execution_count": 3,
   "metadata": {
    "colab": {
     "base_uri": "https://localhost:8080/"
    },
    "executionInfo": {
     "elapsed": 320,
     "status": "ok",
     "timestamp": 1662627881432,
     "user": {
      "displayName": "Swardi Antara",
      "userId": "04346670249923330104"
     },
     "user_tz": -420
    },
    "id": "YOIVUqcGyNnC",
    "outputId": "8143b313-a4e3-4d95-ce43-356259b73edc"
   },
   "outputs": [
    {
     "data": {
      "text/plain": [
       "tensor([0.1000, 0.2000, 0.3000, 0.4000, 0.5000, 0.6000, 0.7000, 0.8000, 0.9000,\n",
       "        1.0000])"
      ]
     },
     "execution_count": 3,
     "metadata": {},
     "output_type": "execute_result"
    }
   ],
   "source": [
    "nol_koma_satu = asal * 0.1\n",
    "nol_koma_satu"
   ]
  },
  {
   "cell_type": "code",
   "execution_count": 4,
   "metadata": {
    "colab": {
     "base_uri": "https://localhost:8080/"
    },
    "executionInfo": {
     "elapsed": 330,
     "status": "ok",
     "timestamp": 1662627883337,
     "user": {
      "displayName": "Swardi Antara",
      "userId": "04346670249923330104"
     },
     "user_tz": -420
    },
    "id": "aHh99t3eyXv0",
    "outputId": "43187b63-a6fe-4b90-8f33-40088b33667c"
   },
   "outputs": [
    {
     "data": {
      "text/plain": [
       "tensor([0.2000, 0.4000, 0.6000, 0.8000, 1.0000, 1.2000, 1.4000, 1.6000, 1.8000,\n",
       "        2.0000])"
      ]
     },
     "execution_count": 4,
     "metadata": {},
     "output_type": "execute_result"
    }
   ],
   "source": [
    "nol_koma_dua = 0.2 * asal\n",
    "nol_koma_dua"
   ]
  },
  {
   "cell_type": "code",
   "execution_count": 5,
   "metadata": {
    "colab": {
     "base_uri": "https://localhost:8080/"
    },
    "executionInfo": {
     "elapsed": 4,
     "status": "ok",
     "timestamp": 1662627884800,
     "user": {
      "displayName": "Swardi Antara",
      "userId": "04346670249923330104"
     },
     "user_tz": -420
    },
    "id": "9nZFbOwjxmXC",
    "outputId": "a79527eb-c299-4a28-e44a-9c37cdcee122"
   },
   "outputs": [
    {
     "data": {
      "text/plain": [
       "tensor([0.5000, 1.0000, 1.5000, 2.0000, 2.5000, 3.0000, 3.5000, 4.0000, 4.5000,\n",
       "        5.0000])"
      ]
     },
     "execution_count": 5,
     "metadata": {},
     "output_type": "execute_result"
    }
   ],
   "source": [
    "setengah = 0.5 * asal\n",
    "setengah"
   ]
  },
  {
   "cell_type": "code",
   "execution_count": 6,
   "metadata": {
    "colab": {
     "base_uri": "https://localhost:8080/"
    },
    "executionInfo": {
     "elapsed": 340,
     "status": "ok",
     "timestamp": 1662627886615,
     "user": {
      "displayName": "Swardi Antara",
      "userId": "04346670249923330104"
     },
     "user_tz": -420
    },
    "id": "9uRtyqSXydzl",
    "outputId": "4af7b0db-2129-4f63-fc13-6b2fd63e7486"
   },
   "outputs": [
    {
     "data": {
      "text/plain": [
       "tensor([ 2,  4,  6,  8, 10, 12, 14, 16, 18, 20])"
      ]
     },
     "execution_count": 6,
     "metadata": {},
     "output_type": "execute_result"
    }
   ],
   "source": [
    "dua_kali = asal * 2\n",
    "dua_kali"
   ]
  },
  {
   "cell_type": "code",
   "execution_count": 7,
   "metadata": {
    "colab": {
     "base_uri": "https://localhost:8080/"
    },
    "executionInfo": {
     "elapsed": 342,
     "status": "ok",
     "timestamp": 1662627888501,
     "user": {
      "displayName": "Swardi Antara",
      "userId": "04346670249923330104"
     },
     "user_tz": -420
    },
    "id": "K9iwnYa2yg18",
    "outputId": "1767a479-703d-4cd5-844f-332c379218b3"
   },
   "outputs": [
    {
     "data": {
      "text/plain": [
       "tensor([ 3,  6,  9, 12, 15, 18, 21, 24, 27, 30])"
      ]
     },
     "execution_count": 7,
     "metadata": {},
     "output_type": "execute_result"
    }
   ],
   "source": [
    "tiga_kali = asal * 3\n",
    "tiga_kali"
   ]
  },
  {
   "cell_type": "code",
   "execution_count": 8,
   "metadata": {
    "executionInfo": {
     "elapsed": 325,
     "status": "ok",
     "timestamp": 1662627893722,
     "user": {
      "displayName": "Swardi Antara",
      "userId": "04346670249923330104"
     },
     "user_tz": -420
    },
    "id": "I3y-TLFZ0ZGA"
   },
   "outputs": [],
   "source": [
    "import numpy as np\n",
    "def softmax(x):\n",
    "\n",
    "    y = np.exp(x - np.max(x))\n",
    "    f_x = y / np.sum(np.exp(x))\n",
    "    return f_x"
   ]
  },
  {
   "cell_type": "code",
   "execution_count": 10,
   "metadata": {
    "id": "jjXRMjkdyqxX"
   },
   "outputs": [
    {
     "data": {
      "text/plain": [
       "tensor([7.8013e-05, 2.1206e-04, 5.7645e-04, 1.5669e-03, 4.2594e-03, 1.1578e-02,\n",
       "        3.1473e-02, 8.5552e-02, 2.3255e-01, 6.3215e-01])"
      ]
     },
     "execution_count": 10,
     "metadata": {},
     "output_type": "execute_result"
    }
   ],
   "source": [
    "_softmax = nn.Softmax(dim=0)\n",
    "softmax_asal = _softmax(asal.float())\n",
    "softmax_asal"
   ]
  },
  {
   "cell_type": "code",
   "execution_count": 11,
   "metadata": {
    "id": "sJ4GsGkQ1AOR"
   },
   "outputs": [
    {
     "name": "stdout",
     "output_type": "stream",
     "text": [
      "torch.Size([1, 10])\n"
     ]
    },
    {
     "data": {
      "text/plain": [
       "tensor([[1., 1., 1., 1., 1., 1., 1., 1., 1., 1.]])"
      ]
     },
     "execution_count": 11,
     "metadata": {},
     "output_type": "execute_result"
    }
   ],
   "source": [
    "_softmax = nn.Softmax(dim=0)\n",
    "input = torch.randn(1, 10)\n",
    "print(input.shape)\n",
    "output = _softmax(input.float())\n",
    "output"
   ]
  },
  {
   "cell_type": "code",
   "execution_count": 12,
   "metadata": {
    "id": "vBFGHaxb16bQ"
   },
   "outputs": [
    {
     "name": "stdout",
     "output_type": "stream",
     "text": [
      "torch.Size([10])\n"
     ]
    }
   ],
   "source": [
    "print(asal.shape)"
   ]
  },
  {
   "cell_type": "code",
   "execution_count": 13,
   "metadata": {
    "id": "NMYwcjQC4EJn"
   },
   "outputs": [],
   "source": [
    "import numpy as np\n",
    "def softmax(x):\n",
    "    return np.exp(x) / np.sum(np.exp(x), axis=0)"
   ]
  },
  {
   "cell_type": "code",
   "execution_count": 14,
   "metadata": {
    "id": "3FeJlmhN4O3m"
   },
   "outputs": [],
   "source": [
    "asal = np.array([1, 2, 3, 4, 5, 6, 7, 8, 9, 10])\n",
    "nol_koma_satu = asal * 0.1\n",
    "nol_koma_dua = asal * 0.2\n",
    "nol_koma_lima = asal * 0.5\n",
    "dua_kali = asal * 2\n",
    "lima_kali = asal * 5"
   ]
  },
  {
   "cell_type": "code",
   "execution_count": 15,
   "metadata": {
    "id": "9iwp99rh4HUq"
   },
   "outputs": [
    {
     "data": {
      "text/plain": [
       "array([7.80134161e-05, 2.12062451e-04, 5.76445508e-04, 1.56694135e-03,\n",
       "       4.25938820e-03, 1.15782175e-02, 3.14728583e-02, 8.55520989e-02,\n",
       "       2.32554716e-01, 6.32149258e-01])"
      ]
     },
     "execution_count": 15,
     "metadata": {},
     "output_type": "execute_result"
    }
   ],
   "source": [
    "softmax_asal = softmax(asal)\n",
    "softmax_asal"
   ]
  },
  {
   "cell_type": "code",
   "execution_count": 17,
   "metadata": {},
   "outputs": [
    {
     "name": "stdout",
     "output_type": "stream",
     "text": [
      "Collecting matplotlib\n",
      "  Downloading matplotlib-3.5.3-cp39-cp39-manylinux_2_5_x86_64.manylinux1_x86_64.whl (11.2 MB)\n",
      "\u001b[K     |████████████████████████████████| 11.2 MB 2.0 MB/s eta 0:00:01\n",
      "\u001b[?25hRequirement already satisfied: pyparsing>=2.2.1 in /home/admin-user/miniconda3/lib/python3.9/site-packages (from matplotlib) (3.0.4)\n",
      "Requirement already satisfied: python-dateutil>=2.7 in /home/admin-user/miniconda3/lib/python3.9/site-packages (from matplotlib) (2.8.2)\n",
      "Collecting cycler>=0.10\n",
      "  Downloading cycler-0.11.0-py3-none-any.whl (6.4 kB)\n",
      "Collecting kiwisolver>=1.0.1\n",
      "  Downloading kiwisolver-1.4.4-cp39-cp39-manylinux_2_12_x86_64.manylinux2010_x86_64.whl (1.6 MB)\n",
      "\u001b[K     |████████████████████████████████| 1.6 MB 60.7 MB/s eta 0:00:01\n",
      "\u001b[?25hCollecting fonttools>=4.22.0\n",
      "  Downloading fonttools-4.37.1-py3-none-any.whl (957 kB)\n",
      "\u001b[K     |████████████████████████████████| 957 kB 54.9 MB/s eta 0:00:01\n",
      "\u001b[?25hRequirement already satisfied: pillow>=6.2.0 in /home/admin-user/miniconda3/lib/python3.9/site-packages (from matplotlib) (9.2.0)\n",
      "Requirement already satisfied: numpy>=1.17 in /home/admin-user/miniconda3/lib/python3.9/site-packages (from matplotlib) (1.23.1)\n",
      "Requirement already satisfied: packaging>=20.0 in /home/admin-user/miniconda3/lib/python3.9/site-packages (from matplotlib) (21.3)\n",
      "Requirement already satisfied: six>=1.5 in /home/admin-user/miniconda3/lib/python3.9/site-packages (from python-dateutil>=2.7->matplotlib) (1.16.0)\n",
      "Installing collected packages: kiwisolver, fonttools, cycler, matplotlib\n",
      "Successfully installed cycler-0.11.0 fonttools-4.37.1 kiwisolver-1.4.4 matplotlib-3.5.3\n"
     ]
    }
   ],
   "source": [
    "!pip install matplotlib"
   ]
  },
  {
   "cell_type": "code",
   "execution_count": 19,
   "metadata": {},
   "outputs": [],
   "source": [
    "softmax_nol_koma_satu = softmax(nol_koma_satu)\n",
    "softmax_nol_koma_dua = softmax(nol_koma_dua)\n",
    "softmax_nol_koma_lima = softmax(nol_koma_lima)\n",
    "softmax_dua_kali = softmax(dua_kali)\n",
    "softmax_lima_kali = softmax(lima_kali)"
   ]
  },
  {
   "cell_type": "code",
   "execution_count": 21,
   "metadata": {
    "id": "yGVdcc5e6JM5"
   },
   "outputs": [
    {
     "data": {
      "image/png": "[encoded data removed]",
      "text/plain": [
       "<Figure size 432x288 with 1 Axes>"
      ]
     },
     "metadata": {
      "needs_background": "light"
     },
     "output_type": "display_data"
    }
   ],
   "source": [
    "import matplotlib.pyplot as plt\n",
    "\n",
    "# plt_1 = plt.figure(figsize=(15, 10))\n",
    "# plotting\n",
    "# plt.title(\"Softmax Visualization\")\n",
    "plt.xlabel(\"Element Index\")\n",
    "plt.ylabel(\"Probability\")\n",
    "plt.plot(asal, softmax_nol_koma_satu, color =\"blue\")\n",
    "plt.plot(asal, softmax_nol_koma_dua, color =\"magenta\")\n",
    "plt.plot(asal, softmax_nol_koma_lima, color =\"green\")\n",
    "plt.plot(asal, softmax_asal, color =\"red\")\n",
    "plt.plot(asal, softmax_dua_kali, color =\"cyan\")\n",
    "plt.plot(asal, softmax_lima_kali, color =\"black\")\n",
    "# Function add a legend  \n",
    "plt.legend([\"0,1\", \"0,2\", \"0.5\", \"1\", \"2\", \"5\"], loc =\"upper left\")\n",
    "plt.show()"
   ]
  },
  {
   "cell_type": "code",
   "execution_count": null,
   "metadata": {},
   "outputs": [],
   "source": []
  }
 ],
 "metadata": {
  "colab": {
   "collapsed_sections": [],
   "provenance": []
  },
  "kernelspec": {
   "display_name": "Python 3 (ipykernel)",
   "language": "python",
   "name": "python3"
  },
  "language_info": {
   "codemirror_mode": {
    "name": "ipython",
    "version": 3
   },
   "file_extension": ".py",
   "mimetype": "text/x-python",
   "name": "python",
   "nbconvert_exporter": "python",
   "pygments_lexer": "ipython3",
   "version": "3.9.12"
  }
 },
 "nbformat": 4,
 "nbformat_minor": 1
}
